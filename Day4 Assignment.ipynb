{
 "cells": [
  {
   "cell_type": "code",
   "execution_count": 1,
   "metadata": {},
   "outputs": [
    {
     "name": "stdout",
     "output_type": "stream",
     "text": [
      "Enter the sentence:what we think we become; we are Python programmer\n",
      "what we think we become; we are Python programmer\n",
      "Enter the word: we\n",
      "The word 'we' present in 'what we think we become; we are Python programmer' as: 1 --> 5 \n",
      "The word 'we' present in 'what we think we become; we are Python programmer' as: 2 --> 14 \n",
      "The word 'we' present in 'what we think we become; we are Python programmer' as: 3 --> 25 \n"
     ]
    }
   ],
   "source": [
    "\n",
    "## ASSIGNMENT QN.NO.1 : \n",
    "\n",
    "str1 = input(\"Enter the sentence:\")\n",
    "\n",
    "print(str1)\n",
    "str2 = input(\"Enter the word: \")\n",
    "count = 0\n",
    "for i in range(len(str1)): \n",
    "  if str1.startswith(str2, i):\n",
    "    count=count+1\n",
    "    print(f\"The word '{str2}' present in '{str1}' as: {count} --> {i} \")\n",
    "if count==0:\n",
    "  print(f\"The word '{str2}' is not present in '{str1}'\")"
   ]
  },
  {
   "cell_type": "code",
   "execution_count": 2,
   "metadata": {},
   "outputs": [
    {
     "name": "stdout",
     "output_type": "stream",
     "text": [
      "Enter number of strings you want check:3\n",
      "Enter the stringAdersh\n",
      "It contains full of alphabet\n",
      "The given string is uppercase: False\n",
      "The given string is lowercase: False\n",
      "Enter the stringADERSH1\n",
      "It contains alphabet and numbers\n",
      "The given string is uppercase: True\n",
      "The given string is lowercase: False\n",
      "Enter the stringadersh123\n",
      "It contains alphabet and numbers\n",
      "The given string is uppercase: False\n",
      "The given string is lowercase: True\n"
     ]
    }
   ],
   "source": [
    "## ASSIGNMENT QN.NO.2 :\n",
    "\n",
    "n= int(input(\"Enter number of strings you want check:\"))\n",
    "for i in range(0,n):\n",
    "  str2= input(\"Enter the string\")\n",
    "  if str2.isalpha():\n",
    "    print(\"It contains full of alphabet\")\n",
    "  elif str2.isdigit():\n",
    "    print(\"It contains full of numbers\")\n",
    "  else:\n",
    "    print(\"It contains alphabet and numbers\")\n",
    "  upr= str2.isupper()\n",
    "  print(\"The given string is uppercase:\",upr)\n",
    "  lwr= str2.islower()\n",
    "  print(\"The given string is lowercase:\",lwr)"
   ]
  },
  {
   "cell_type": "code",
   "execution_count": null,
   "metadata": {},
   "outputs": [],
   "source": []
  }
 ],
 "metadata": {
  "kernelspec": {
   "display_name": "Python 3",
   "language": "python",
   "name": "python3"
  },
  "language_info": {
   "codemirror_mode": {
    "name": "ipython",
    "version": 3
   },
   "file_extension": ".py",
   "mimetype": "text/x-python",
   "name": "python",
   "nbconvert_exporter": "python",
   "pygments_lexer": "ipython3",
   "version": "3.7.3"
  }
 },
 "nbformat": 4,
 "nbformat_minor": 2
}
