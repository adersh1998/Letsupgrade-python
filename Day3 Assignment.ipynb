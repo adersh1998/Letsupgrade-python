{
 "cells": [
  {
   "cell_type": "markdown",
   "metadata": {},
   "source": [
    "## Assignment 1"
   ]
  },
  {
   "cell_type": "markdown",
   "metadata": {},
   "source": [
    "Sum of n numbers using while loop"
   ]
  },
  {
   "cell_type": "code",
   "execution_count": 1,
   "metadata": {},
   "outputs": [
    {
     "name": "stdout",
     "output_type": "stream",
     "text": [
      "enter the number8\n",
      "Sum of 8 Numbers is: 36\n"
     ]
    }
   ],
   "source": [
    "n=int(input(\"enter the number\"))\n",
    "i=0\n",
    "sum=0\n",
    "while(i<=n):\n",
    "    sum+=i\n",
    "    i+=1\n",
    "\n",
    "    \n",
    "print(f'Sum of {n} Numbers is:', sum )"
   ]
  },
  {
   "cell_type": "markdown",
   "metadata": {},
   "source": [
    "## Assignment 2"
   ]
  },
  {
   "cell_type": "markdown",
   "metadata": {},
   "source": [
    "Check whether given number is prime or not"
   ]
  },
  {
   "cell_type": "code",
   "execution_count": 4,
   "metadata": {},
   "outputs": [
    {
     "name": "stdout",
     "output_type": "stream",
     "text": [
      "enter the number506\n",
      "506 is not Prime number\n"
     ]
    }
   ],
   "source": [
    "n=int(input(\"enter the number\"))\n",
    "i=2\n",
    "count=0\n",
    "if(n%2 == 0):\n",
    "    count=1\n",
    "if(n == 1):\n",
    "    print(f\"{n} is neither prime nor composite\")\n",
    "elif(count == 0):\n",
    "    print(f\"{n} is a Prime number\")\n",
    "else:\n",
    "    print(f\"{n} is not Prime number\")"
   ]
  },
  {
   "cell_type": "code",
   "execution_count": null,
   "metadata": {},
   "outputs": [],
   "source": []
  }
 ],
 "metadata": {
  "kernelspec": {
   "display_name": "Python 3",
   "language": "python",
   "name": "python3"
  },
  "language_info": {
   "codemirror_mode": {
    "name": "ipython",
    "version": 3
   },
   "file_extension": ".py",
   "mimetype": "text/x-python",
   "name": "python",
   "nbconvert_exporter": "python",
   "pygments_lexer": "ipython3",
   "version": "3.7.3"
  }
 },
 "nbformat": 4,
 "nbformat_minor": 2
}
